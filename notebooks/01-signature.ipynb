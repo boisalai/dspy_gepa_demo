{
 "cells": [
  {
   "cell_type": "markdown",
   "metadata": {},
   "source": [
    "# Partie 1 : Les signatures DSPy"
   ]
  },
  {
   "cell_type": "markdown",
   "metadata": {},
   "source": [
    "## Configuration"
   ]
  },
  {
   "cell_type": "code",
   "execution_count": 1,
   "metadata": {},
   "outputs": [],
   "source": [
    "import dspy\n",
    "import warnings\n",
    "warnings.filterwarnings('ignore')"
   ]
  },
  {
   "cell_type": "markdown",
   "metadata": {},
   "source": [
    "## Qu'est-ce qu'une signature ?\n",
    "\n",
    "Une **signature** dans DSPy est une **déclaration de ce que votre programme doit faire**, pas comment le faire.\n",
    "\n",
    "### Analogie\n",
    "Imaginez que vous engagez un assistant :\n",
    "- ❌ **Sans DSPy** : Vous lui donnez des instructions détaillées (\"d'abord lis le ticket, ensuite regarde si c'est hardware...\")\n",
    "- ✅ **Avec DSPy** : Vous lui donnez simplement le contrat (\"je te donne un ticket, tu me donnes la catégorie et la priorité\")\n",
    "\n",
    "### Composants d'une signature\n",
    "\n",
    "1. **Docstring** : Description de la tâche\n",
    "2. **Champs d'entrée** (`InputField`) : Ce que vous fournissez\n",
    "3. **Champs de sortie** (`OutputField`) : Ce que vous attendez\n",
    "4. **Descriptions** (optionnelles) : Précisions sur chaque champ"
   ]
  },
  {
   "cell_type": "markdown",
   "metadata": {},
   "source": [
    "### Exemple 1 : Signature simple\n",
    "\n",
    "La forme la plus basique d'une signature."
   ]
  },
  {
   "cell_type": "code",
   "execution_count": null,
   "metadata": {},
   "outputs": [
    {
     "name": "stdout",
     "output_type": "stream",
     "text": [
      "✅ Signature simple créée\n",
      "   - 1 entrée : ticket\n",
      "   - 1 sortie : category\n"
     ]
    }
   ],
   "source": [
    "class BasicSignature(dspy.Signature):\n",
    "    \"\"\"Classifier un ticket IT.\"\"\"\n",
    "    \n",
    "    ticket = dspy.InputField()\n",
    "    category = dspy.OutputField()"
   ]
  },
  {
   "cell_type": "markdown",
   "metadata": {},
   "source": [
    "### Exemple 2 : Signature avec descriptions\n",
    "\n",
    "Ajouter des descriptions aide le modèle à mieux comprendre la tâche."
   ]
  },
  {
   "cell_type": "code",
   "execution_count": null,
   "metadata": {},
   "outputs": [
    {
     "name": "stdout",
     "output_type": "stream",
     "text": [
      "✅ Signature avec descriptions créée\n",
      "   Les descriptions aident le modèle à mieux comprendre\n"
     ]
    }
   ],
   "source": [
    "class DescriptiveSignature(dspy.Signature):\n",
    "    \"\"\"Classifier un ticket de support IT selon sa catégorie.\"\"\"\n",
    "    \n",
    "    ticket = dspy.InputField(desc=\"Description du problème rapporté par l'utilisateur\")\n",
    "    category = dspy.OutputField(desc=\"Catégorie technique du problème\")"
   ]
  },
  {
   "cell_type": "markdown",
   "metadata": {},
   "source": [
    "### Exemple 3 : Signature avec contraintes\n",
    "\n",
    "Spécifier les valeurs possibles dans la description."
   ]
  },
  {
   "cell_type": "code",
   "execution_count": 4,
   "metadata": {},
   "outputs": [],
   "source": [
    "# Catégories et priorités possibles\n",
    "CATEGORIES = [\"Hardware\", \"Software\", \"Network\", \"Application\", \"Infrastructure\", \"Account\", \"Email\", \"Peripherals\"]\n",
    "PRIORITIES = [\"Low\", \"Medium\", \"High\", \"Urgent\", \"Critical\"]\n",
    "\n",
    "class ConstrainedSignature(dspy.Signature):\n",
    "    \"\"\"Classifier un ticket IT selon catégorie et priorité.\"\"\"\n",
    "    \n",
    "    ticket = dspy.InputField(desc=\"Description du ticket de support IT\")\n",
    "    category = dspy.OutputField(desc=f\"Catégorie parmi: {', '.join(CATEGORIES)}\")\n",
    "    priority = dspy.OutputField(desc=f\"Priorité parmi: {', '.join(PRIORITIES)}\")"
   ]
  },
  {
   "cell_type": "markdown",
   "metadata": {},
   "source": [
    "### Exemple 4 : Signature avec contexte supplémentaire\n",
    "\n",
    "Ajouter des entrées contextuelles pour des tâches complexes."
   ]
  },
  {
   "cell_type": "code",
   "execution_count": 5,
   "metadata": {},
   "outputs": [],
   "source": [
    "class ContextualSignature(dspy.Signature):\n",
    "    \"\"\"Classifier un ticket en tenant compte de l'historique utilisateur.\"\"\"\n",
    "    \n",
    "    ticket = dspy.InputField(desc=\"Description du problème actuel\")\n",
    "    user_history = dspy.InputField(desc=\"Historique des tickets précédents de l'utilisateur\")\n",
    "    category = dspy.OutputField(desc=f\"Catégorie parmi: {', '.join(CATEGORIES)}\")\n",
    "    priority = dspy.OutputField(desc=f\"Priorité parmi: {', '.join(PRIORITIES)}\")\n",
    "    reasoning = dspy.OutputField(desc=\"Explication de la décision\")"
   ]
  },
  {
   "cell_type": "markdown",
   "metadata": {},
   "source": [
    "### Exemple 5 : Signature avec format de sortie structuré\n",
    "\n",
    "Demander un format particulier pour la sortie."
   ]
  },
  {
   "cell_type": "code",
   "execution_count": 6,
   "metadata": {},
   "outputs": [],
   "source": [
    "class StructuredOutputSignature(dspy.Signature):\n",
    "    \"\"\"Analyser un ticket et produire un rapport structuré.\"\"\"\n",
    "    \n",
    "    ticket = dspy.InputField(desc=\"Description du ticket\")\n",
    "    category = dspy.OutputField(desc=\"Catégorie technique\")\n",
    "    priority = dspy.OutputField(desc=\"Niveau de priorité\")\n",
    "    estimated_time = dspy.OutputField(desc=\"Temps estimé de résolution en heures\")\n",
    "    required_skills = dspy.OutputField(desc=\"Compétences requises (liste séparée par des virgules)\")"
   ]
  },
  {
   "cell_type": "markdown",
   "metadata": {},
   "source": [
    "### 💡 Bonnes Pratiques pour les signatures\n",
    "\n",
    "#### ✅ À faire\n",
    "\n",
    "1. **Docstring claire** : Décrivez la tâche en une phrase\n",
    "2. **Noms explicites** : `ticket` plutôt que `input`, `category` plutôt que `output`\n",
    "3. **Descriptions précises** : Ajoutez `desc` pour guider le modèle\n",
    "4. **Contraintes claires** : Listez les valeurs possibles quand applicable\n",
    "5. **Commencer simple** : Ajoutez des champs progressivement\n",
    "\n",
    "#### ❌ À éviter\n",
    "\n",
    "1. **Trop de champs** : Commencez avec 1-3 sorties maximum\n",
    "2. **Descriptions vagues** : \"texte\" → \"description du problème utilisateur\"\n",
    "3. **Noms génériques** : `input1`, `output1` → `ticket`, `category`\n",
    "4. **Instructions dans le nom** : Le nom décrit le contenu, pas l'action\n",
    "\n",
    "### 🎯 Signature pour notre tutoriel\n",
    "\n",
    "Nous utiliserons cette signature pour le reste du tutoriel :"
   ]
  },
  {
   "cell_type": "code",
   "execution_count": 7,
   "metadata": {},
   "outputs": [],
   "source": [
    "# Catégories et priorités possibles\n",
    "CATEGORIES = [\"Hardware\", \"Software\", \"Network\", \"Application\", \"Infrastructure\", \"Account\", \"Email\", \"Peripherals\"]\n",
    "PRIORITIES = [\"Low\", \"Medium\", \"High\", \"Urgent\", \"Critical\"]\n",
    "\n",
    "class TicketClassifier(dspy.Signature):\n",
    "    \"\"\"Classifier un ticket de support IT selon sa catégorie et sa priorité.\"\"\"\n",
    "    \n",
    "    ticket = dspy.InputField(desc=\"Description du ticket de support IT\")\n",
    "    category = dspy.OutputField(desc=f\"Catégorie parmi: {', '.join(CATEGORIES)}\")\n",
    "    priority = dspy.OutputField(desc=f\"Priorité parmi: {', '.join(PRIORITIES)}\")"
   ]
  }
 ],
 "metadata": {
  "kernelspec": {
   "display_name": "dspy-gepa-demo (3.12.8)",
   "language": "python",
   "name": "python3"
  },
  "language_info": {
   "codemirror_mode": {
    "name": "ipython",
    "version": 3
   },
   "file_extension": ".py",
   "mimetype": "text/x-python",
   "name": "python",
   "nbconvert_exporter": "python",
   "pygments_lexer": "ipython3",
   "version": "3.12.8"
  }
 },
 "nbformat": 4,
 "nbformat_minor": 4
}
