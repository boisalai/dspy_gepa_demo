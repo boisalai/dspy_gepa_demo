{
 "cells": [
  {
   "cell_type": "markdown",
   "metadata": {},
   "source": [
    "# Tutoriel DSPy et GEPA : Classification Automatique de Tickets IT\n",
    "\n",
    "Ce tutoriel complet vous guide de manière progressive à travers **DSPy** (Declarative Self-improving Language Programs) et **GEPA** (Generalized Error-driven Prompt Augmentation).\n",
    "\n",
    "## Objectifs d'apprentissage\n",
    "\n",
    "1. Maîtriser les **Signatures** : définir les entrées/sorties de vos tâches\n",
    "2. Comprendre les **Modules** : les différents types et comment les composer\n",
    "3. Évaluer les performances avec des **métriques**\n",
    "4. Optimiser automatiquement avec les **Optimiseurs**\n",
    "5. Utiliser différents **modèles de langage** facilement\n",
    "6. Maîtriser **GEPA** pour l'optimisation avancée\n",
    "\n",
    "## Prérequis\n",
    "\n",
    "- Python 3.9+\n",
    "- Ollama installé et en cours d'exécution\n",
    "- Un modèle téléchargé (ex: `ollama pull llama3.1:8b`)\n",
    "\n",
    "## Structure du tutoriel\n",
    "\n",
    "1. **Configuration et Données** - Préparer l'environnement\n",
    "2. **Les Signatures DSPy** - Définir ce que vous voulez faire\n",
    "3. **Les Modules DSPy** - Comment le faire\n",
    "4. **L'Évaluation** - Mesurer les performances\n",
    "5. **Les Optimiseurs** - Améliorer automatiquement\n",
    "6. **Multi-Modèles** - Flexibilité entre providers\n",
    "7. **GEPA en Pratique** - Optimisation avancée"
   ]
  },
  {
   "cell_type": "markdown",
   "metadata": {},
   "source": [
    "## Configuration initiale\n",
    "\n",
    "Commençons par installer les dépendances et configurer notre environnement."
   ]
  },
  {
   "cell_type": "code",
   "execution_count": null,
   "metadata": {},
   "outputs": [],
   "source": [
    "# Installation des dépendances (décommentez si nécessaire)\n",
    "# !uv pip install dspy-ai"
   ]
  },
  {
   "cell_type": "code",
   "execution_count": 39,
   "metadata": {},
   "outputs": [
    {
     "name": "stdout",
     "output_type": "stream",
     "text": [
      "✅ Bibliothèques importées avec succès!\n"
     ]
    }
   ],
   "source": [
    "import dspy\n",
    "import warnings\n",
    "warnings.filterwarnings('ignore')\n",
    "\n",
    "print(\"✅ Bibliothèques importées avec succès!\")"
   ]
  },
  {
   "cell_type": "markdown",
   "metadata": {},
   "source": [
    "### Configuration du modèle de langage\n",
    "\n",
    "Nous utilisons Ollama avec Llama 3.1, un modèle open-source qui fonctionne localement."
   ]
  },
  {
   "cell_type": "code",
   "execution_count": 40,
   "metadata": {},
   "outputs": [
    {
     "name": "stdout",
     "output_type": "stream",
     "text": [
      "🚀 Configuration de DSPy avec Ollama...\n",
      "✅ DSPy configuré avec Ollama Llama 3.1:8b\n"
     ]
    }
   ],
   "source": [
    "print(\"🚀 Configuration de DSPy avec Ollama...\")\n",
    "\n",
    "# Configurer le modèle de langage\n",
    "lm = dspy.LM(\n",
    "    model='ollama_chat/llama3.1:8b',\n",
    "    api_base='http://localhost:11434',\n",
    "    temperature=0.3\n",
    ")\n",
    "\n",
    "# Configurer DSPy globalement\n",
    "dspy.configure(lm=lm)\n",
    "\n",
    "print(\"✅ DSPy configuré avec Ollama Llama 3.1:8b\")"
   ]
  },
  {
   "cell_type": "markdown",
   "metadata": {},
   "source": [
    "### Préparation des données\n",
    "\n",
    "Nous travaillons avec des tickets IT en français. Chaque ticket contient :\n",
    "- Une **description** du problème\n",
    "- Une **catégorie** (Hardware, Software, Network, etc.)\n",
    "- Une **priorité** (Low, Medium, High, Urgent, Critical)"
   ]
  },
  {
   "cell_type": "code",
   "execution_count": 1,
   "metadata": {},
   "outputs": [
    {
     "name": "stdout",
     "output_type": "stream",
     "text": [
      "📊 Données chargées : 15 entraînement, 7 validation\n",
      "📦 8 catégories, 5 priorités\n"
     ]
    }
   ],
   "source": [
    "# Données d'entraînement\n",
    "trainset = [\n",
    "    {\"ticket\": \"Mon ordinateur ne démarre plus depuis ce matin. J'ai une présentation importante dans 2 heures.\", \"category\": \"Hardware\", \"priority\": \"Urgent\"},\n",
    "    {\"ticket\": \"Je n'arrive pas à me connecter à l'imprimante du 3e étage. Ça peut attendre.\", \"category\": \"Peripherals\", \"priority\": \"Low\"},\n",
    "    {\"ticket\": \"Le VPN ne fonctionne plus. Impossible d'accéder aux fichiers du serveur.\", \"category\": \"Network\", \"priority\": \"High\"},\n",
    "    {\"ticket\": \"J'ai oublié mon mot de passe Outlook. Je peux utiliser le webmail.\", \"category\": \"Account\", \"priority\": \"Medium\"},\n",
    "    {\"ticket\": \"Le site web affiche une erreur 500. Les clients ne peuvent plus commander!\", \"category\": \"Application\", \"priority\": \"Critical\"},\n",
    "    {\"ticket\": \"Ma souris sans fil ne répond plus bien. Les piles sont faibles.\", \"category\": \"Peripherals\", \"priority\": \"Low\"},\n",
    "    {\"ticket\": \"Le système de paie ne calcule pas les heures supplémentaires. C'est la fin du mois.\", \"category\": \"Application\", \"priority\": \"Urgent\"},\n",
    "    {\"ticket\": \"J'aimerais une mise à jour de mon logiciel Adobe quand vous aurez le temps.\", \"category\": \"Software\", \"priority\": \"Low\"},\n",
    "    {\"ticket\": \"Le serveur de base de données est très lent. Toute la production est impactée.\", \"category\": \"Infrastructure\", \"priority\": \"Critical\"},\n",
    "    {\"ticket\": \"Je ne reçois plus les emails. J'attends des réponses de fournisseurs.\", \"category\": \"Email\", \"priority\": \"High\"},\n",
    "    {\"ticket\": \"Mon écran externe ne s'affiche plus. Je peux travailler sur le laptop.\", \"category\": \"Hardware\", \"priority\": \"Medium\"},\n",
    "    {\"ticket\": \"Le wifi de la salle A ne fonctionne pas. Réunion avec des externes dans 30 min.\", \"category\": \"Network\", \"priority\": \"Urgent\"},\n",
    "    {\"ticket\": \"Je voudrais installer Slack pour mieux collaborer avec l'équipe.\", \"category\": \"Software\", \"priority\": \"Medium\"},\n",
    "    {\"ticket\": \"Le système de sauvegarde a échoué cette nuit selon le rapport.\", \"category\": \"Infrastructure\", \"priority\": \"High\"},\n",
    "    {\"ticket\": \"Mon clavier a une touche qui colle. C'est gérable mais ennuyeux.\", \"category\": \"Peripherals\", \"priority\": \"Low\"}\n",
    "]\n",
    "\n",
    "# Données de validation\n",
    "valset = [\n",
    "    {\"ticket\": \"Le serveur de fichiers est inaccessible. Personne ne peut travailler.\", \"category\": \"Infrastructure\", \"priority\": \"Critical\"},\n",
    "    {\"ticket\": \"J'ai besoin d'accès au dossier comptabilité pour l'audit. C'est urgent.\", \"category\": \"Account\", \"priority\": \"Urgent\"},\n",
    "    {\"ticket\": \"L'écran de mon collègue en vacances clignote. On peut attendre.\", \"category\": \"Hardware\", \"priority\": \"Low\"},\n",
    "    {\"ticket\": \"Le CRM plante quand j'essaie d'exporter les contacts.\", \"category\": \"Application\", \"priority\": \"High\"},\n",
    "    {\"ticket\": \"Je voudrais changer ma photo de profil quand vous aurez un moment.\", \"category\": \"Account\", \"priority\": \"Low\"},\n",
    "    {\"ticket\": \"La vidéoconférence ne fonctionne pas. Réunion avec New York dans 10 minutes!\", \"category\": \"Application\", \"priority\": \"Critical\"},\n",
    "    {\"ticket\": \"Mon antivirus affiche un message d'expiration mais tout fonctionne.\", \"category\": \"Software\", \"priority\": \"Medium\"}\n",
    "]\n",
    "\n",
    "# Catégories et priorités possibles\n",
    "CATEGORIES = [\"Hardware\", \"Software\", \"Network\", \"Application\", \"Infrastructure\", \"Account\", \"Email\", \"Peripherals\"]\n",
    "PRIORITIES = [\"Low\", \"Medium\", \"High\", \"Urgent\", \"Critical\"]\n",
    "\n",
    "print(f\"📊 Données chargées : {len(trainset)} entraînement, {len(valset)} validation\")\n",
    "print(f\"📦 {len(CATEGORIES)} catégories, {len(PRIORITIES)} priorités\")"
   ]
  }
 ],
 "metadata": {
  "kernelspec": {
   "display_name": "dspy-gepa-demo (3.12.8)",
   "language": "python",
   "name": "python3"
  },
  "language_info": {
   "codemirror_mode": {
    "name": "ipython",
    "version": 3
   },
   "file_extension": ".py",
   "mimetype": "text/x-python",
   "name": "python",
   "nbconvert_exporter": "python",
   "pygments_lexer": "ipython3",
   "version": "3.12.8"
  }
 },
 "nbformat": 4,
 "nbformat_minor": 4
}
